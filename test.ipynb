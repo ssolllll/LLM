{
 "cells": [
  {
   "cell_type": "code",
   "execution_count": 5,
   "metadata": {},
   "outputs": [
    {
     "name": "stdout",
     "output_type": "stream",
     "text": [
      "Request Status: 202\n",
      "SSE Response:\n",
      "event: endpoint\n",
      "data: /messages/?session_id=8e4408eef59b4548a4970b381a64df61\n"
     ]
    }
   ],
   "source": [
    "import requests\n",
    "import json\n",
    "import time\n",
    "\n",
    "session_id = \"96baff69c12542ba93060b67a5300b88\"\n",
    "\n",
    "# 1. 먼저 요청 보내기\n",
    "message = {\n",
    "    \"jsonrpc\": \"2.0\",\n",
    "    \"id\": 1,\n",
    "    \"method\": \"tools/list\",\n",
    "    \"params\": {}\n",
    "}\n",
    "\n",
    "response = requests.post(\n",
    "    f\"http://localhost:6276/messages/?session_id={session_id}\",\n",
    "    json=message\n",
    ")\n",
    "print(f\"Request Status: {response.status_code}\")\n",
    "\n",
    "# 2. SSE 스트림에서 응답 받기\n",
    "sse_response = requests.get(\n",
    "    f\"http://localhost:6276/sse?session_id={session_id}\",\n",
    "    stream=True\n",
    ")\n",
    "\n",
    "print(\"SSE Response:\")\n",
    "for line in sse_response.iter_lines():\n",
    "    if line:\n",
    "        decoded_line = line.decode('utf-8')\n",
    "        print(decoded_line)\n",
    "        \n",
    "        # 5줄 정도만 확인하고 중단\n",
    "        if decoded_line.startswith('data:'):\n",
    "            break"
   ]
  },
  {
   "cell_type": "code",
   "execution_count": 1,
   "metadata": {},
   "outputs": [
    {
     "data": {
      "application/vnd.jupyter.widget-view+json": {
       "model_id": "a2d9e75c2d934db098e1b413d8029bbc",
       "version_major": 2,
       "version_minor": 0
      },
      "text/plain": [
       "Loading checkpoint shards:   0%|          | 0/2 [00:00<?, ?it/s]"
      ]
     },
     "metadata": {},
     "output_type": "display_data"
    },
    {
     "name": "stderr",
     "output_type": "stream",
     "text": [
      "The attention mask and the pad token id were not set. As a consequence, you may observe unexpected behavior. Please pass your input's `attention_mask` to obtain reliable results.\n",
      "Setting `pad_token_id` to `eos_token_id`:128001 for open-end generation.\n",
      "The attention mask is not set and cannot be inferred from input because pad token is same as eos token. As a consequence, you may observe unexpected behavior. Please pass your input's `attention_mask` to obtain reliable results.\n"
     ]
    },
    {
     "name": "stdout",
     "output_type": "stream",
     "text": [
      "철수가 20개의 연필을 가지고 있었고, 영희가 절반을 가져가면 20 / 2 = 10개의 연필을 남기게 됩니다. \n",
      "\n",
      "이제 영희가 가져간 10개의 연필을 더한 민수가 5개의 연필을 가져갔습니다. \n",
      "\n",
      "따라서 철수가 남은 연필의 갯수는 10 - 5 = 5개입니다. \n",
      "\n",
      "결론적으로, 철수에게 남은 연필의 갯수는 5개입니다.\n"
     ]
    }
   ],
   "source": [
    "import torch\n",
    "from transformers import AutoTokenizer, AutoModelForCausalLM\n",
    "\n",
    "model_id = 'Bllossom/llama-3.2-Korean-Bllossom-3B'\n",
    "\n",
    "tokenizer = AutoTokenizer.from_pretrained(model_id)\n",
    "model = AutoModelForCausalLM.from_pretrained(\n",
    "    model_id,\n",
    "    torch_dtype=torch.bfloat16,\n",
    "    device_map=\"auto\",\n",
    ")\n",
    "instruction = \"철수가 20개의 연필을 가지고 있었는데 영희가 절반을 가져가고 민수가 남은 5개를 가져갔으면 철수에게 남은 연필의 갯수는 몇개인가요?\"\n",
    "\n",
    "messages = [\n",
    "    {\"role\": \"user\", \"content\": f\"{instruction}\"}\n",
    "    ]\n",
    "\n",
    "input_ids = tokenizer.apply_chat_template(\n",
    "    messages,\n",
    "    add_generation_prompt=True,\n",
    "    return_tensors=\"pt\"\n",
    ").to(model.device)\n",
    "\n",
    "terminators = [\n",
    "    tokenizer.convert_tokens_to_ids(\"<|end_of_text|>\"),\n",
    "    tokenizer.convert_tokens_to_ids(\"<|eot_id|>\")\n",
    "]\n",
    "\n",
    "outputs = model.generate(\n",
    "    input_ids,\n",
    "    max_new_tokens=1024,\n",
    "    eos_token_id=terminators,\n",
    "    do_sample=True,\n",
    "    temperature=0.6,\n",
    "    top_p=0.9\n",
    ")\n",
    "\n",
    "print(tokenizer.decode(outputs[0][input_ids.shape[-1]:], skip_special_tokens=True))"
   ]
  },
  {
   "cell_type": "code",
   "execution_count": null,
   "metadata": {},
   "outputs": [],
   "source": []
  }
 ],
 "metadata": {
  "kernelspec": {
   "display_name": "projectH",
   "language": "python",
   "name": "python3"
  },
  "language_info": {
   "codemirror_mode": {
    "name": "ipython",
    "version": 3
   },
   "file_extension": ".py",
   "mimetype": "text/x-python",
   "name": "python",
   "nbconvert_exporter": "python",
   "pygments_lexer": "ipython3",
   "version": "3.12.9"
  }
 },
 "nbformat": 4,
 "nbformat_minor": 2
}
