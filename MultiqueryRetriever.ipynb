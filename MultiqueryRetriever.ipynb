{
 "cells": [
  {
   "cell_type": "code",
   "execution_count": 1,
   "metadata": {},
   "outputs": [
    {
     "name": "stderr",
     "output_type": "stream",
     "text": [
      "USER_AGENT environment variable not set, consider setting it to identify your requests.\n"
     ]
    }
   ],
   "source": [
    "import os\n",
    "from glob import glob\n",
    "\n",
    "from langchain_community.vectorstores import FAISS\n",
    "from langchain_huggingface import HuggingFaceEmbeddings\n",
    "from langchain_community.document_loaders import WebBaseLoader\n",
    "from langchain_text_splitters import RecursiveCharacterTextSplitter\n",
    "from langchain.document_loaders import PyPDFLoader\n",
    "\n",
    "os.environ[\"HF_HUB_DISABLE_SYMLINKS_WARNING\"] = \"1\""
   ]
  },
  {
   "cell_type": "code",
   "execution_count": 2,
   "metadata": {},
   "outputs": [
    {
     "data": {
      "application/vnd.jupyter.widget-view+json": {
       "model_id": "78070595f138418797a6e30c069eff3e",
       "version_major": 2,
       "version_minor": 0
      },
      "text/plain": [
       "model.safetensors:  11%|#         | 241M/2.27G [00:00<?, ?B/s]"
      ]
     },
     "metadata": {},
     "output_type": "display_data"
    },
    {
     "data": {
      "text/plain": [
       "1024"
      ]
     },
     "execution_count": 2,
     "metadata": {},
     "output_type": "execute_result"
    }
   ],
   "source": [
    "question = \"대학생에게 필요한 금융 지식이 뭘까?\"\n",
    "model_name = \"BAAI/bge-m3\"\n",
    "embeddings = HuggingFaceEmbeddings(model_name=model_name)\n",
    "\n",
    "test_embedding = embeddings.embed_query(question)\n",
    "len(test_embedding)"
   ]
  },
  {
   "cell_type": "code",
   "execution_count": 3,
   "metadata": {},
   "outputs": [
    {
     "name": "stdout",
     "output_type": "stream",
     "text": [
      "총 948 개의 청크로 분할됨.\n",
      "대학생을 위한\n",
      "실용금융\n",
      "제4판\n"
     ]
    }
   ],
   "source": [
    "lst_pdf = glob(\"../../Data/PDF/*.pdf\")\n",
    "\n",
    "# 1️⃣ PDF 파일 로드\n",
    "pdf_path = lst_pdf[0]\n",
    "loader = PyPDFLoader(pdf_path)\n",
    "documents = loader.load()\n",
    "\n",
    "# 2️⃣ 텍스트 분할\n",
    "text_splitter = RecursiveCharacterTextSplitter(chunk_size=800, chunk_overlap=400)\n",
    "splits = text_splitter.split_documents(documents)\n",
    "\n",
    "# 3️⃣ 결과 출력\n",
    "print(f\"총 {len(splits)} 개의 청크로 분할됨.\")\n",
    "print(splits[0].page_content)\n",
    "\n",
    "vectordb = FAISS.from_documents(documents=splits, embedding=embeddings)"
   ]
  },
  {
   "cell_type": "code",
   "execution_count": 4,
   "metadata": {},
   "outputs": [
    {
     "data": {
      "application/vnd.jupyter.widget-view+json": {
       "model_id": "89cd9f206bfb4ac7b4e4db4f0792a9bb",
       "version_major": 2,
       "version_minor": 0
      },
      "text/plain": [
       "Loading checkpoint shards:   0%|          | 0/2 [00:00<?, ?it/s]"
      ]
     },
     "metadata": {},
     "output_type": "display_data"
    },
    {
     "name": "stderr",
     "output_type": "stream",
     "text": [
      "Device set to use cuda:0\n"
     ]
    }
   ],
   "source": [
    "import torch\n",
    "from langchain_huggingface import HuggingFacePipeline\n",
    "from transformers import pipeline, AutoTokenizer, AutoModelForCausalLM, BitsAndBytesConfig\n",
    "\n",
    "bnb_config = BitsAndBytesConfig(\n",
    "    load_in_8bit=True,  # 8비트 로딩 (or load_in_4bit=True for more compression)\n",
    "    llm_int8_threshold=6.0\n",
    ")\n",
    "\n",
    "model_id = 'Bllossom/llama-3.2-Korean-Bllossom-3B'\n",
    "tokenizer = AutoTokenizer.from_pretrained(\n",
    "    model_id,\n",
    "    truncation=True,\n",
    "    max_length=\"longest_first\"\n",
    ")\n",
    "tokenizer.pad_token_id = tokenizer.eos_token_id\n",
    "\n",
    "model = AutoModelForCausalLM.from_pretrained(\n",
    "    model_id,\n",
    "    torch_dtype=torch.float16,\n",
    "    low_cpu_mem_usage=True,\n",
    "    quantization_config=bnb_config\n",
    ")\n",
    "\n",
    "hf_pipeline = pipeline(\n",
    "    \"text-generation\",\n",
    "    model=model,\n",
    "    tokenizer=tokenizer,\n",
    "    max_length=512,\n",
    "    temperature=0.7,\n",
    "    top_p=0.9,\n",
    "    device_map=\"auto\"\n",
    ")\n",
    "llm = HuggingFacePipeline(pipeline=hf_pipeline)"
   ]
  },
  {
   "cell_type": "code",
   "execution_count": 19,
   "metadata": {},
   "outputs": [
    {
     "ename": "TypeError",
     "evalue": "MultiQueryRetriever.generate_queries() missing 1 required positional argument: 'run_manager'",
     "output_type": "error",
     "traceback": [
      "\u001b[1;31m---------------------------------------------------------------------------\u001b[0m",
      "\u001b[1;31mTypeError\u001b[0m                                 Traceback (most recent call last)",
      "Cell \u001b[1;32mIn[19], line 1\u001b[0m\n\u001b[1;32m----> 1\u001b[0m \u001b[43mretriever\u001b[49m\u001b[38;5;241;43m.\u001b[39;49m\u001b[43mgenerate_queries\u001b[49m\u001b[43m(\u001b[49m\u001b[43mquestion\u001b[49m\u001b[43m)\u001b[49m\n",
      "\u001b[1;31mTypeError\u001b[0m: MultiQueryRetriever.generate_queries() missing 1 required positional argument: 'run_manager'"
     ]
    }
   ],
   "source": [
    "retriever.generate_queries(question)"
   ]
  },
  {
   "cell_type": "code",
   "execution_count": 5,
   "metadata": {},
   "outputs": [
    {
     "name": "stderr",
     "output_type": "stream",
     "text": [
      "Truncation was not explicitly activated but `max_length` is provided a specific value, please use `truncation=True` to explicitly truncate examples to max length. Defaulting to 'longest_first' truncation strategy. If you encode pairs of sequences (GLUE-style) with the tokenizer you can select this strategy more precisely by providing a specific strategy to `truncation`.\n"
     ]
    },
    {
     "data": {
      "text/plain": [
       "['You are an AI language model assistant. Your task is ',\n",
       " '    to generate 3 different versions of the given user ',\n",
       " '    question to retrieve relevant documents from a vector  database. ',\n",
       " '    By generating multiple perspectives on the user question, ',\n",
       " '    your goal is to help the user overcome some of the limitations ',\n",
       " '    of distance-based similarity search. Provide these alternative ',\n",
       " '    questions separated by newlines. Original question: 대학생에게 필요한 금융 지식이 뭘까? (What financial knowledge do college students need?)',\n",
       " ' ',\n",
       " ' ',\n",
       " ' ',\n",
       " '1. 대학생에게 필요한 금융 지식은 무엇인가? (What financial knowledge do college students need?)',\n",
       " '2. 대학생들이 금융 지식에 대해 어떤 질문을 할 수 있을까요? (What questions do college students ask about financial knowledge?)',\n",
       " '3. 대학생들이 금융 지식에 대해 어떤 문제를 해결할 수 있을까요? (What problems can college students solve with financial knowledge?)',\n",
       " ' ',\n",
       " ' ',\n",
       " '4. 대학생들에게 필요한 금융 지식은 어떤 것이 있을까요? (What financial knowledge do college students need?)',\n",
       " '5. 대학생들이 금융 지식에 대해 어떤 도구나 리소스를 활용할 수 있을까요? (What tools and resources do college students use to gain financial knowledge?)',\n",
       " '6. 대학생들이 금융 지식에 대해 어떤 목표를 설정할 수 있을까요? (What goals can college students set for financial knowledge?)',\n",
       " '7. 대학생들이 금융 지식에 대해 어떤 행동을 취할 수 있을까요? (What actions can college students take with financial knowledge?)',\n",
       " ' ',\n",
       " ' ',\n",
       " '8. 대학생들이 금융 지식에 대해 어떤 질문을 할 수 있을까요? (What questions do college students ask about financial knowledge?)',\n",
       " '9. 대학생들이 금융 지식에 대해 어떤 문제를 해결할 수 있을까요? (What problems can college students solve with financial knowledge?)',\n",
       " '10. 대학생들이 금융 지식에 대해 어떤 목표를 설정할 수 있을까요? (What goals can college students set for financial knowledge?)',\n",
       " '11. 대학생들이 금융 지식에 대해 어떤 행동을 취할 수 있을까요? (What actions can college students take with financial knowledge?)',\n",
       " ' ',\n",
       " ' ',\n",
       " '12. 대학생들에게 필요한 금융 지식은 어떤 것이 있을까요? (What financial knowledge do college students need?)',\n",
       " '13. 대학생들이 금융 지식에 대해 어떤 도구나 리소스를 활용할 수 있을까요? (What tools and resources do college students use to gain financial knowledge']"
      ]
     },
     "execution_count": 5,
     "metadata": {},
     "output_type": "execute_result"
    }
   ],
   "source": [
    "from uuid import uuid4\n",
    "\n",
    "from langchain_core.callbacks import BaseCallbackHandler\n",
    "from langchain_core.callbacks.manager import CallbackManagerForRetrieverRun\n",
    "from langchain.retrievers import MultiQueryRetriever\n",
    "\n",
    "\n",
    "handler = BaseCallbackHandler()\n",
    "\n",
    "run_id = uuid4()\n",
    "run_manager = CallbackManagerForRetrieverRun(\n",
    "    run_id=run_id,\n",
    "    handlers=[handler],\n",
    "    inheritable_handlers=[]\n",
    ")\n",
    "\n",
    "retriever = MultiQueryRetriever.from_llm(\n",
    "    retriever=vectordb.as_retriever(),\n",
    "    llm=llm,\n",
    "    include_original=True\n",
    ")\n",
    "\n",
    "multiQueries = retriever.generate_queries(question, run_manager=run_manager)\n",
    "multiQueries"
   ]
  },
  {
   "cell_type": "code",
   "execution_count": 6,
   "metadata": {},
   "outputs": [
    {
     "name": "stdout",
     "output_type": "stream",
     "text": [
      "Document 1: 제12장  신기술과 금융의 변화 425\n",
      "핀테크 관련 주요 기술12.2\n",
      "금융을 변화시키는 다양한 첨단기술이 있는데 핀테크에서는 시스템을 설계하고 제어\n",
      "할 수 있는 인프라 소프트웨어 기술이 중심이 된다. 대표적인 기술로서 인공지능, 블록\n",
      "체인, 클라우드, 빅데이터를 꼽을 수 있는데, 각 기술 명칭의 제일 앞 글자를 따서 이를 \n",
      "ABCD기술이라고 지칭하기도 한다. \n",
      "인공지능1\n",
      "인공지능(AI, Artificial Intelligence)이란 인간의 지능으로 할 수 있는 사고, 학습, 자기 개\n",
      "발 등을 컴퓨터가 할 수 있도록 하는 컴퓨터 공학 및 정보기술의 한 분야이다. 즉, 딥러닝\n",
      "(Deep Learning, 심층학습)을 기반으로 대규모의 데이터를 축적하여 인간과 유사한 학습, 지\n",
      "각, 판단 능력 등을 구현한 것이며, 데이터 분석기술과 컴퓨터 성능이 발달하며 점차 완성\n",
      "도가 높아지고 있다.\n",
      "인공지능은 챗봇4을 기초로 금융회사의 고객 상담, 금융상품 추천 등 고객 응대 업무에 \n",
      "활용되고 있다. 또한 인공지능이 빅데이터 및 투자자 성향을 분석하여 자산관리 포트폴리\n",
      "오를 설계하여 제공하거나, 여신심사 관련 금융데이터를 분석하여 개인 신용평가의 정밀\n",
      "도를 높이는 사례도 있다. 이 외에도 인공지능 기술을 활용하여 금융사기 또는 이상거래\n",
      "를 탐지하는 체계를 구축하는 등 금융권에서의 활용이 확산되고 있다. \n",
      "4  챗봇이란 고객이 입력한 문자나 말한 음성내용을 인공지능을 활용하여 인식하고 고객의 응대에 자동적으\n",
      "로 답하는 기능을 말한다.\n",
      "\n",
      "Document 2: 438  대학생을 위한 실용금융\n",
      "웰스테크4\n",
      "웰스테크(WealthTech)는 부(wealth)와 기술(tech)의 합성어로, 자산관리를 위한 핀테크 서\n",
      "비스를 지칭한다. 가장 대표적인 분야로 금융투자 관련 로보어드바이저(Robo–Advisor)를 \n",
      "들 수 있다. \n",
      "로보어드바이저는 로봇(Robot)과 투자자문가(Advisor)의 합성어이며, 인공지능을 활용하\n",
      "여 투자자의 리스크 관련 성향, 목표수익률, 자금의 성격 등을 진단한 뒤 자동으로 포트폴\n",
      "리오를 구성하여 투자하는 서비스이다. 로보어드바이저는 알고리즘에 따라 자동으로 운\n",
      "영되기 때문에 상품 설계 시 인간의 판단과 개입을 최소화하므로, 수수료가 낮고 다양한 \n",
      "투자전략도 수립할 수 있는 장점을 갖는다. 해외에서 로보어드바이저의 운용자산 규모는 \n",
      "지속적으로 성장하고 있으며, 국내에서도 로보어드바이저가 펀드재산을 직접 운용하는 \n",
      "것을 허용하고, 로보어드바이저 업체가 자산운용사 등으로부터 펀드․일임7재산 운용업\n",
      "무를 위탁받는 것을 허용하는 등 각종 규제 완화에 힘입어 더욱 활성화되는 추세이다.\n",
      "또한 각 금융회사에 분산되어 있는 개인의 자산 관련 정보를 편리하게 파악할 수 있도\n",
      "록 금융자산 현황을 종합하여 제공하는 개인종합자산관리서비스도 확대되고 있다. 이는 \n",
      "온라인을 통해 개인의 각종 금융자산 현황과 더불어 지출관리, 맞춤형 금융상품 추천, 신\n",
      "용관리 등 다양한 자산관리서비스를 제공하는 것이며, 국내의 대표적인 서비스로 뱅크샐\n",
      "러드(앱), 카카오페이, 브로콜리 등이 있다. \n",
      "기사읽기\n",
      "소리 소문 없이 스며든 로보어드바이저 금융생활\n",
      "\n",
      "Document 3: 제13장  부록: 금융관련 기초 이론과 주요 이슈  499\n",
      "신뢰․정보․신용과 금융의 관계13.6\n",
      "본인-대리인 관계와 정보비대칭, 그리고 대리인 문제1\n",
      "경제학에서는 본인(principal)과 대리인(agent)이 존재하는 상황에서 본인과 대리인 간\n",
      "의 정보비대칭(information asymmetry)으로 인해 발생하는 문제를 일컬어 통상 대리인 문\n",
      "제(agency problem)라고 부른다. 여기서 본인은 의사결정권을 지닌 자를, 대리인은 본인을 \n",
      "대리하여 특정 행위를 수행하는 자를 각각 의미한다. 본인-대리인 관계(principal-agent \n",
      "relationship)에서 본인은 자신의 이익을 위해 대리인이 신의성실 의무를 다할 것으로 기대\n",
      "하고 대리인에게 의사결정 권한을 위임한다. 그러나 대리인은 본인으로부터 의사결정권\n",
      "을 넘겨받고 나면 본인이 아닌 자신의 사익을 추구하고자 하는 유인에 따라 행동할 수 있\n",
      "는데, 이를 본인과 대리인 간의 목표 불일치(goal incongruence) 현상이라 부른다. 이러한 본\n",
      "인과 대리인 간의 목표 불일치 상황에서 본인이 대리인에 대한 정확하고 충분한 정보가 \n",
      "없는 경우 잘못된 의사결정을 내릴 수 있게 된다.\n",
      "대리인 문제의 해결 또는 완화를 위해서는 본인-대리인 관계에서 상대적으로 (대리인 \n",
      "혹은 대리인의 행위에 대한) 정보의 열위에 있는 본인에게 정보의 우위에 있는 대리인에 대한 \n",
      "정보를 적절하게 제공함으로써 정보비대칭 현상을 완화하는 것이 필요하다.\n",
      "확대보기\n",
      "대리인 문제와 역선택 및 도덕적 해이\n",
      "\n",
      "Document 4: 426  대학생을 위한 실용금융\n",
      "확대보기\n",
      "인공지능의 발전 단계별 구분\n",
      "인공지능은 발전 단계에 따라 약한 인공지능(Weak AI), 강한 인공지능(Strong AI), 초인\n",
      "공지능(Super AI)과 같이 크게 세 가지로 구분할 수 있다. 약한 인공지능은 스스로 사고하\n",
      "며 문제를 해결할 수 있는 능력이 없는 컴퓨터 기반의 인공지능이다. 미리 정의된 규칙의 모\n",
      "음을 이용해 지능을 흉내내는 정도의 컴퓨터 프로그램으로, 구글 알파고 등과 같은 단순 인\n",
      "공지능이 여기에 속한다. 다음으로 강한 인공지능은 약한 인공지능의 발전된 형태를 말하는\n",
      "데, 이론적으로 보면 인간의 사고와 같이 컴퓨터 프로그램이 행동하고 사고하는 인간형 AI\n",
      "와 인간과 다른 형태의 지각과 사고 추론을 발전시키는 컴퓨터 프로그램인 비인간형 AI로 \n",
      "나뉜다. 마지막으로 초인공지능은 강한 인공지능이 진화한 형태로, 인간보다 1,000배 이상 \n",
      "뛰어난 지능을 가진 인공지능이다. 이는 효율성, 창의성 등의 원초적 욕구를 기반으로 끊임\n",
      "없이 진화하며 더 높은 수준으로 나아간다.\n",
      "블록체인2\n",
      "블록체인을 이해하기 위해서는 먼저 분산원장기술(distributed ledger technology)을 살펴볼 \n",
      "필요가 있다. 분산원장기술이란 거래정보를 기록한 원장5을 특정 기관의 중앙 서버가 아\n",
      "닌 P2P(peer–to–peer) 네트워크에 분산하여 참가하는 사람들이 공동으로 기록하고 관리하\n",
      "는 기술이다. 전통적인 금융시스템이 원장을 집중․관리하는 제3의 기관(TTP, Trusted Third\n",
      "\n"
     ]
    }
   ],
   "source": [
    "# MultiQueryRetriever 설정\n",
    "retriever = MultiQueryRetriever.from_llm(\n",
    "    retriever=vectordb.as_retriever(),\n",
    "    llm=llm,\n",
    "    include_original=True\n",
    ")\n",
    "\n",
    "# 테스트 실행\n",
    "retrieved_docs = retriever.invoke(question)\n",
    "\n",
    "for i, doc in enumerate(retrieved_docs):\n",
    "    print(f\"Document {i+1}: {doc.page_content}\\n\")\n",
    "    if i==3:\n",
    "        break"
   ]
  },
  {
   "cell_type": "code",
   "execution_count": 7,
   "metadata": {},
   "outputs": [
    {
     "data": {
      "text/plain": [
       "33"
      ]
     },
     "execution_count": 7,
     "metadata": {},
     "output_type": "execute_result"
    }
   ],
   "source": [
    "len(retrieved_docs)"
   ]
  },
  {
   "cell_type": "code",
   "execution_count": null,
   "metadata": {},
   "outputs": [],
   "source": []
  }
 ],
 "metadata": {
  "kernelspec": {
   "display_name": "projectH",
   "language": "python",
   "name": "python3"
  },
  "language_info": {
   "codemirror_mode": {
    "name": "ipython",
    "version": 3
   },
   "file_extension": ".py",
   "mimetype": "text/x-python",
   "name": "python",
   "nbconvert_exporter": "python",
   "pygments_lexer": "ipython3",
   "version": "3.12.9"
  }
 },
 "nbformat": 4,
 "nbformat_minor": 2
}
